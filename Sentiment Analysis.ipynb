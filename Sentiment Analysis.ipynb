{
 "cells": [
  {
   "cell_type": "code",
   "execution_count": 1,
   "id": "05c6ea89",
   "metadata": {},
   "outputs": [],
   "source": [
    "#Data visualization and Manipulation\n",
    "import pandas as pd\n",
    "import matplotlib.pyplot as plt\n",
    "import seaborn as sns\n",
    "from wordcloud import WordCloud\n",
    "import re\n",
    "#Natural Language Processing Libraries\n",
    "import nltk\n",
    "from nltk.corpus import stopwords\n",
    "from nltk.stem import WordNetLemmatizer\n",
    "#Sckit_learning libraries\n",
    "from sklearn.feature_extraction.text import CountVectorizer\n",
    "from sklearn.model_selection import GridSearchCV\n",
    "from sklearn.ensemble import RandomForestClassifier\n",
    "#Evaluation Metrics\n",
    "from sklearn.metrics import accuracy_score,precision_score,recall_score,confusion_matrix,roc_curve,classification_report\n",
    "from scikitplot.metrics import plot_confusion_matrix\n",
    "from nltk.sentiment.vader import SentimentIntensityAnalyzer"
   ]
  },
  {
   "cell_type": "code",
   "execution_count": 2,
   "id": "b478a7ff",
   "metadata": {},
   "outputs": [],
   "source": [
    "train_df = pd.read_csv(r'''D:\\chinnu\\egnite ds\\emotions\\train.txt''',delimiter = ';',names = ['text','label'])\n",
    "val_df = pd.read_csv(r'''D:\\chinnu\\egnite ds\\emotions\\val.txt''',delimiter = ';',names = ['text','label'])"
   ]
  },
  {
   "cell_type": "code",
   "execution_count": 3,
   "id": "1f30517c",
   "metadata": {},
   "outputs": [],
   "source": [
    "train_df = train_df.head(1000)\n",
    "val_df = val_df.head(1000)"
   ]
  },
  {
   "cell_type": "code",
   "execution_count": 4,
   "id": "52146f8d",
   "metadata": {},
   "outputs": [],
   "source": [
    "df = pd.concat([train_df,val_df])\n",
    "df.reset_index(inplace = True,drop = False)"
   ]
  },
  {
   "cell_type": "code",
   "execution_count": 5,
   "id": "ed31da8c",
   "metadata": {},
   "outputs": [
    {
     "name": "stdout",
     "output_type": "stream",
     "text": [
      "<class 'pandas.core.frame.DataFrame'>\n",
      "RangeIndex: 2000 entries, 0 to 1999\n",
      "Data columns (total 3 columns):\n",
      " #   Column  Non-Null Count  Dtype \n",
      "---  ------  --------------  ----- \n",
      " 0   index   2000 non-null   int64 \n",
      " 1   text    2000 non-null   object\n",
      " 2   label   2000 non-null   object\n",
      "dtypes: int64(1), object(2)\n",
      "memory usage: 47.0+ KB\n"
     ]
    }
   ],
   "source": [
    "\n",
    "df.info()"
   ]
  },
  {
   "cell_type": "code",
   "execution_count": 6,
   "id": "e8576389",
   "metadata": {},
   "outputs": [
    {
     "name": "stderr",
     "output_type": "stream",
     "text": [
      "c:\\users\\noel\\appdata\\local\\programs\\python\\python38\\lib\\site-packages\\seaborn\\_decorators.py:36: FutureWarning: Pass the following variable as a keyword arg: x. From version 0.12, the only valid positional argument will be `data`, and passing other arguments without an explicit keyword will result in an error or misinterpretation.\n",
      "  warnings.warn(\n"
     ]
    },
    {
     "data": {
      "text/plain": [
       "<AxesSubplot:xlabel='label', ylabel='count'>"
      ]
     },
     "execution_count": 6,
     "metadata": {},
     "output_type": "execute_result"
    },
    {
     "data": {
      "image/png": "[encoded data removed]",
      "text/plain": [
       "<Figure size 432x288 with 1 Axes>"
      ]
     },
     "metadata": {
      "needs_background": "light"
     },
     "output_type": "display_data"
    }
   ],
   "source": [
    "sns.countplot(df.label)"
   ]
  },
  {
   "cell_type": "code",
   "execution_count": 7,
   "id": "512fddff",
   "metadata": {},
   "outputs": [],
   "source": [
    "def custom_encoder(df):\n",
    "    df.replace(to_replace = \"surprise\",value = 1, inplace = True)\n",
    "    df.replace(to_replace = \"love\",value = 1, inplace = True)\n",
    "    df.replace(to_replace = \"fear\",value = 0, inplace = True)\n",
    "    df.replace(to_replace = \"joy\",value = 1, inplace = True)\n",
    "    df.replace(to_replace = \"anger\",value = 0, inplace = True)\n",
    "    df.replace(to_replace = \"sadness\",value = 0, inplace = True)"
   ]
  },
  {
   "cell_type": "code",
   "execution_count": 8,
   "id": "ef91da18",
   "metadata": {},
   "outputs": [],
   "source": [
    "custom_encoder(df['label'])"
   ]
  },
  {
   "cell_type": "code",
   "execution_count": 9,
   "id": "485f9adc",
   "metadata": {},
   "outputs": [
    {
     "name": "stderr",
     "output_type": "stream",
     "text": [
      "c:\\users\\noel\\appdata\\local\\programs\\python\\python38\\lib\\site-packages\\seaborn\\_decorators.py:36: FutureWarning: Pass the following variable as a keyword arg: x. From version 0.12, the only valid positional argument will be `data`, and passing other arguments without an explicit keyword will result in an error or misinterpretation.\n",
      "  warnings.warn(\n"
     ]
    },
    {
     "data": {
      "text/plain": [
       "<AxesSubplot:xlabel='label', ylabel='count'>"
      ]
     },
     "execution_count": 9,
     "metadata": {},
     "output_type": "execute_result"
    },
    {
     "data": {
      "image/png": "[encoded data removed]",
      "text/plain": [
       "<Figure size 432x288 with 1 Axes>"
      ]
     },
     "metadata": {
      "needs_background": "light"
     },
     "output_type": "display_data"
    }
   ],
   "source": [
    "sns.countplot(df.label)"
   ]
  },
  {
   "cell_type": "code",
   "execution_count": 10,
   "id": "9d833e98",
   "metadata": {},
   "outputs": [],
   "source": [
    "lm = WordNetLemmatizer()\n",
    "def pre_processing(df_col):\n",
    "    corpus = []\n",
    "    for item in df_col :\n",
    "        new_item = re.sub(\"[^a-zA-Z]\", ' ',str(item))\n",
    "        new_item = new_item.lower()\n",
    "        new_item = new_item.split()\n",
    "        new_item = [lm.lemmatize(word) for word in new_item if word not in set(stopwords.words('english'))]\n",
    "        corpus.append(' '.join(str(x) for x in new_item))\n",
    "    return corpus"
   ]
  },
  {
   "cell_type": "code",
   "execution_count": 80,
   "id": "c5de63bf",
   "metadata": {},
   "outputs": [],
   "source": [
    "corpus = pre_processing(df['text'])"
   ]
  },
  {
   "cell_type": "code",
   "execution_count": 81,
   "id": "7ccbf145",
   "metadata": {},
   "outputs": [
    {
     "data": {
      "text/plain": [
       "<matplotlib.image.AxesImage at 0x22ccae0c2b0>"
      ]
     },
     "execution_count": 81,
     "metadata": {},
     "output_type": "execute_result"
    },
    {
     "data": {
      "image/png": "[encoded data removed]",
      "text/plain": [
       "<Figure size 432x288 with 1 Axes>"
      ]
     },
     "metadata": {
      "needs_background": "light"
     },
     "output_type": "display_data"
    }
   ],
   "source": [
    "\n",
    "word_cloud = \"\"\n",
    "for row in corpus:\n",
    "    for word in row:\n",
    "        word_cloud += \" \".join(word)\n",
    "wordcloud = WordCloud(width = 1000, height= 500, background_color = 'white', min_font_size = 10).generate(word_cloud)\n",
    "plt.imshow(wordcloud)"
   ]
  },
  {
   "cell_type": "code",
   "execution_count": 14,
   "id": "394f7c90",
   "metadata": {},
   "outputs": [],
   "source": [
    "cv = CountVectorizer(ngram_range = (1,2))"
   ]
  },
  {
   "cell_type": "code",
   "execution_count": 15,
   "id": "f7ac2997",
   "metadata": {},
   "outputs": [],
   "source": [
    "traindata = cv.fit_transform(corpus)\n",
    "X = traindata\n",
    "Y = df.label"
   ]
  },
  {
   "cell_type": "code",
   "execution_count": 16,
   "id": "d42ebec9",
   "metadata": {},
   "outputs": [],
   "source": [
    "parameters = {'max_features': ('auto','sqrt'),\n",
    "             'n_estimators': [500, 1000],\n",
    "             'max_depth': [10, None],\n",
    "             'min_samples_split': [5],\n",
    "             'min_samples_leaf': [1],\n",
    "             'bootstrap': [True]}"
   ]
  },
  {
   "cell_type": "code",
   "execution_count": 17,
   "id": "7e841e4c",
   "metadata": {},
   "outputs": [
    {
     "data": {
      "text/plain": [
       "{'bootstrap': True,\n",
       " 'max_depth': None,\n",
       " 'max_features': 'sqrt',\n",
       " 'min_samples_leaf': 1,\n",
       " 'min_samples_split': 5,\n",
       " 'n_estimators': 1000}"
      ]
     },
     "execution_count": 17,
     "metadata": {},
     "output_type": "execute_result"
    }
   ],
   "source": [
    "grid_search = GridSearchCV(RandomForestClassifier(),parameters,cv=5,return_train_score=True,n_jobs=-1)\n",
    "grid_search.fit(X,Y)\n",
    "grid_search.best_params_"
   ]
  },
  {
   "cell_type": "code",
   "execution_count": 18,
   "id": "9fde9ad6",
   "metadata": {},
   "outputs": [
    {
     "name": "stdout",
     "output_type": "stream",
     "text": [
      "Parameters:  {'bootstrap': True, 'max_depth': 10, 'max_features': 'auto', 'min_samples_leaf': 1, 'min_samples_split': 5, 'n_estimators': 500}\n",
      "Mean Test Score:  0.623\n",
      "Rank:  7\n",
      "Parameters:  {'bootstrap': True, 'max_depth': 10, 'max_features': 'auto', 'min_samples_leaf': 1, 'min_samples_split': 5, 'n_estimators': 1000}\n",
      "Mean Test Score:  0.63\n",
      "Rank:  5\n",
      "Parameters:  {'bootstrap': True, 'max_depth': 10, 'max_features': 'sqrt', 'min_samples_leaf': 1, 'min_samples_split': 5, 'n_estimators': 500}\n",
      "Mean Test Score:  0.6205\n",
      "Rank:  8\n",
      "Parameters:  {'bootstrap': True, 'max_depth': 10, 'max_features': 'sqrt', 'min_samples_leaf': 1, 'min_samples_split': 5, 'n_estimators': 1000}\n",
      "Mean Test Score:  0.6239999999999999\n",
      "Rank:  6\n",
      "Parameters:  {'bootstrap': True, 'max_depth': None, 'max_features': 'auto', 'min_samples_leaf': 1, 'min_samples_split': 5, 'n_estimators': 500}\n",
      "Mean Test Score:  0.7869999999999999\n",
      "Rank:  4\n",
      "Parameters:  {'bootstrap': True, 'max_depth': None, 'max_features': 'auto', 'min_samples_leaf': 1, 'min_samples_split': 5, 'n_estimators': 1000}\n",
      "Mean Test Score:  0.7905\n",
      "Rank:  2\n"
     ]
    }
   ],
   "source": [
    "for i in range(6):\n",
    "    print('Parameters: ',grid_search.cv_results_['params'][i])\n",
    "    print('Mean Test Score: ',grid_search.cv_results_['mean_test_score'][i])\n",
    "    print('Rank: ',grid_search.cv_results_['rank_test_score'][i])"
   ]
  },
  {
   "cell_type": "code",
   "execution_count": 19,
   "id": "c76aac1e",
   "metadata": {},
   "outputs": [
    {
     "data": {
      "text/plain": [
       "RandomForestClassifier(max_features='sqrt', min_samples_split=5,\n",
       "                       n_estimators=1000)"
      ]
     },
     "execution_count": 19,
     "metadata": {},
     "output_type": "execute_result"
    }
   ],
   "source": [
    "rfc = RandomForestClassifier(max_features=grid_search.best_params_['max_features'],\n",
    "                        max_depth=grid_search.best_params_['max_depth'],\n",
    "                                      n_estimators=grid_search.best_params_['n_estimators'],\n",
    "                                      min_samples_split=grid_search.best_params_['min_samples_split'],\n",
    "                                      min_samples_leaf=grid_search.best_params_['min_samples_leaf'],\n",
    "                                      bootstrap=grid_search.best_params_['bootstrap'])\n",
    "rfc.fit(X,Y)"
   ]
  },
  {
   "cell_type": "code",
   "execution_count": 21,
   "id": "7a067168",
   "metadata": {},
   "outputs": [],
   "source": [
    "test_df = pd.read_csv(r'''D:\\chinnu\\egnite ds\\emotions\\test.txt''',delimiter=';',names=['text','label'])"
   ]
  },
  {
   "cell_type": "code",
   "execution_count": 1,
   "id": "f3430897",
   "metadata": {},
   "outputs": [
    {
     "ename": "NameError",
     "evalue": "name 'test_df' is not defined",
     "output_type": "error",
     "traceback": [
      "\u001b[1;31m---------------------------------------------------------------------------\u001b[0m",
      "\u001b[1;31mNameError\u001b[0m                                 Traceback (most recent call last)",
      "\u001b[1;32m~\\AppData\\Local\\Temp/ipykernel_8676/216289271.py\u001b[0m in \u001b[0;36m<module>\u001b[1;34m\u001b[0m\n\u001b[1;32m----> 1\u001b[1;33m \u001b[0mX_test\u001b[0m\u001b[1;33m,\u001b[0m\u001b[0mY_test\u001b[0m \u001b[1;33m=\u001b[0m \u001b[0mtest_df\u001b[0m\u001b[1;33m.\u001b[0m\u001b[0mtext\u001b[0m\u001b[1;33m,\u001b[0m\u001b[0mtest_df\u001b[0m\u001b[1;33m.\u001b[0m\u001b[0mlabel\u001b[0m\u001b[1;33m\u001b[0m\u001b[1;33m\u001b[0m\u001b[0m\n\u001b[0m\u001b[0;32m      2\u001b[0m \u001b[1;31m#encode the labels into two classes , 0 and 1\u001b[0m\u001b[1;33m\u001b[0m\u001b[1;33m\u001b[0m\u001b[1;33m\u001b[0m\u001b[0m\n\u001b[0;32m      3\u001b[0m \u001b[0mtest_df\u001b[0m \u001b[1;33m=\u001b[0m \u001b[0mcustom_encoder\u001b[0m\u001b[1;33m(\u001b[0m\u001b[0mY_test\u001b[0m\u001b[1;33m)\u001b[0m\u001b[1;33m\u001b[0m\u001b[1;33m\u001b[0m\u001b[0m\n\u001b[0;32m      4\u001b[0m \u001b[1;31m#pre-processing of text\u001b[0m\u001b[1;33m\u001b[0m\u001b[1;33m\u001b[0m\u001b[1;33m\u001b[0m\u001b[0m\n\u001b[0;32m      5\u001b[0m \u001b[0mtest_corpus\u001b[0m \u001b[1;33m=\u001b[0m \u001b[0mpre_processing\u001b[0m\u001b[1;33m(\u001b[0m\u001b[0mX_test\u001b[0m\u001b[1;33m)\u001b[0m\u001b[1;33m\u001b[0m\u001b[1;33m\u001b[0m\u001b[0m\n",
      "\u001b[1;31mNameError\u001b[0m: name 'test_df' is not defined"
     ]
    }
   ],
   "source": [
    "X_test,Y_test = test_df.text,test_df.label\n",
    "#encode the labels into two classes , 0 and 1\n",
    "test_df = custom_encoder(Y_test)\n",
    "#pre-processing of text\n",
    "test_corpus = pre_processing(X_test)\n",
    "#convert text data into vectors\n",
    "testdata = cv.transform(test_corpus)\n",
    "#predict the target\n",
    "predictions = rfc.predict(testdata)"
   ]
  },
  {
   "cell_type": "code",
   "execution_count": 23,
   "id": "0de1820f",
   "metadata": {},
   "outputs": [
    {
     "name": "stdout",
     "output_type": "stream",
     "text": [
      "Accuracy_score:  0.826\n",
      "Precision_score:  0.9144927536231884\n",
      "Recall_score:  0.6858695652173913\n",
      "--------------------------------------------------\n",
      "              precision    recall  f1-score   support\n",
      "\n",
      "           0       0.78      0.95      0.85      1080\n",
      "           1       0.91      0.69      0.78       920\n",
      "\n",
      "    accuracy                           0.83      2000\n",
      "   macro avg       0.85      0.82      0.82      2000\n",
      "weighted avg       0.84      0.83      0.82      2000\n",
      "\n"
     ]
    },
    {
     "data": {
      "image/png": "[encoded data removed]",
      "text/plain": [
       "<Figure size 432x288 with 2 Axes>"
      ]
     },
     "metadata": {
      "needs_background": "light"
     },
     "output_type": "display_data"
    }
   ],
   "source": [
    "plot_confusion_matrix(Y_test,predictions)\n",
    "acc_score = accuracy_score(Y_test,predictions)\n",
    "pre_score = precision_score(Y_test,predictions)\n",
    "rec_score = recall_score(Y_test,predictions)\n",
    "print('Accuracy_score: ',acc_score)\n",
    "print('Precision_score: ',pre_score)\n",
    "print('Recall_score: ',rec_score)\n",
    "print(\"-\"*50)\n",
    "cr = classification_report(Y_test,predictions)\n",
    "print(cr)"
   ]
  },
  {
   "cell_type": "code",
   "execution_count": 24,
   "id": "42bc36f1",
   "metadata": {},
   "outputs": [
    {
     "data": {
      "image/png": "[encoded data removed]",
      "text/plain": [
       "<Figure size 432x288 with 1 Axes>"
      ]
     },
     "metadata": {
      "needs_background": "light"
     },
     "output_type": "display_data"
    }
   ],
   "source": [
    "predictions_probability = rfc.predict_proba(testdata)\n",
    "fpr,tpr,thresholds = roc_curve(Y_test,predictions_probability[:,1])\n",
    "plt.plot(fpr,tpr)\n",
    "plt.plot([0,1])\n",
    "plt.title('ROC Curve')\n",
    "plt.xlabel('False Positive Rate')\n",
    "plt.ylabel('True Positive Rate')\n",
    "plt.show()"
   ]
  },
  {
   "cell_type": "code",
   "execution_count": 25,
   "id": "c67af508",
   "metadata": {},
   "outputs": [],
   "source": [
    "def expression_check(prediction_input):\n",
    "    if prediction_input == 0:\n",
    "        print(\"Input statement has Negative Sentiment.\")\n",
    "    elif prediction_input == 1:\n",
    "        print(\"Input statement has Positive Sentiment.\")\n",
    "    else:\n",
    "        print(\"Invalid Statement.\")"
   ]
  },
  {
   "cell_type": "code",
   "execution_count": 26,
   "id": "c2c7604f",
   "metadata": {},
   "outputs": [],
   "source": [
    "def sentiment_predictor(input):\n",
    "    input = pre_processing(input)\n",
    "    transformed_input = cv.transform(input)\n",
    "    prediction = rfc.predict(transformed_input)\n",
    "    expression_check(prediction)"
   ]
  },
  {
   "cell_type": "code",
   "execution_count": 27,
   "id": "1e31bf39",
   "metadata": {},
   "outputs": [
    {
     "name": "stdout",
     "output_type": "stream",
     "text": [
      "Input statement has Negative Sentiment.\n",
      "Input statement has Positive Sentiment.\n"
     ]
    }
   ],
   "source": [
    "input1 = [\"Sometimes I just want to punch someone in the face.\"]\n",
    "input2 = [\"I bought a new phone and it's so good.\"]\n",
    "sentiment_predictor(input1)\n",
    "sentiment_predictor(input2)"
   ]
  },
  {
   "cell_type": "markdown",
   "id": "10e98bc9",
   "metadata": {},
   "source": [
    "CALCULATING POPULARITY SCORE"
   ]
  },
  {
   "cell_type": "code",
   "execution_count": 75,
   "id": "ac654748",
   "metadata": {},
   "outputs": [],
   "source": [
    "df['preprocess text'] = corpus"
   ]
  },
  {
   "cell_type": "code",
   "execution_count": 76,
   "id": "709be709",
   "metadata": {},
   "outputs": [],
   "source": [
    "sent = SentimentIntensityAnalyzer()"
   ]
  },
  {
   "cell_type": "code",
   "execution_count": 77,
   "id": "e318680b",
   "metadata": {},
   "outputs": [],
   "source": [
    "polarity = [round(sent.polarity_scores(i)['compound'], 2) for i in df['text']]\n",
    "df['sentiment_polarity'] = polarity\n"
   ]
  },
  {
   "cell_type": "code",
   "execution_count": 82,
   "id": "3ac7759f",
   "metadata": {},
   "outputs": [
    {
     "data": {
      "text/html": [
       "<div>\n",
       "<style scoped>\n",
       "    .dataframe tbody tr th:only-of-type {\n",
       "        vertical-align: middle;\n",
       "    }\n",
       "\n",
       "    .dataframe tbody tr th {\n",
       "        vertical-align: top;\n",
       "    }\n",
       "\n",
       "    .dataframe thead th {\n",
       "        text-align: right;\n",
       "    }\n",
       "</style>\n",
       "<table border=\"1\" class=\"dataframe\">\n",
       "  <thead>\n",
       "    <tr style=\"text-align: right;\">\n",
       "      <th></th>\n",
       "      <th>index</th>\n",
       "      <th>text</th>\n",
       "      <th>label</th>\n",
       "      <th>sentiment_polarity</th>\n",
       "      <th>preprocess text</th>\n",
       "      <th>positive_count</th>\n",
       "      <th>negative count</th>\n",
       "      <th>negative_count</th>\n",
       "      <th>Sentiment Score</th>\n",
       "    </tr>\n",
       "  </thead>\n",
       "  <tbody>\n",
       "    <tr>\n",
       "      <th>0</th>\n",
       "      <td>0</td>\n",
       "      <td>i didnt feel humiliated</td>\n",
       "      <td>0</td>\n",
       "      <td>0.26</td>\n",
       "      <td>didnt feel humiliated</td>\n",
       "      <td>17</td>\n",
       "      <td>17</td>\n",
       "      <td>17</td>\n",
       "      <td>0.94</td>\n",
       "    </tr>\n",
       "    <tr>\n",
       "      <th>1</th>\n",
       "      <td>1</td>\n",
       "      <td>i can go from feeling so hopeless to so damned...</td>\n",
       "      <td>0</td>\n",
       "      <td>0.08</td>\n",
       "      <td>go feeling hopeless damned hopeful around some...</td>\n",
       "      <td>40</td>\n",
       "      <td>40</td>\n",
       "      <td>40</td>\n",
       "      <td>0.98</td>\n",
       "    </tr>\n",
       "    <tr>\n",
       "      <th>2</th>\n",
       "      <td>2</td>\n",
       "      <td>im grabbing a minute to post i feel greedy wrong</td>\n",
       "      <td>0</td>\n",
       "      <td>-0.66</td>\n",
       "      <td>im grabbing minute post feel greedy wrong</td>\n",
       "      <td>27</td>\n",
       "      <td>27</td>\n",
       "      <td>27</td>\n",
       "      <td>0.96</td>\n",
       "    </tr>\n",
       "    <tr>\n",
       "      <th>3</th>\n",
       "      <td>3</td>\n",
       "      <td>i am ever feeling nostalgic about the fireplac...</td>\n",
       "      <td>1</td>\n",
       "      <td>0.13</td>\n",
       "      <td>ever feeling nostalgic fireplace know still pr...</td>\n",
       "      <td>33</td>\n",
       "      <td>33</td>\n",
       "      <td>33</td>\n",
       "      <td>0.97</td>\n",
       "    </tr>\n",
       "    <tr>\n",
       "      <th>4</th>\n",
       "      <td>4</td>\n",
       "      <td>i am feeling grouchy</td>\n",
       "      <td>0</td>\n",
       "      <td>-0.34</td>\n",
       "      <td>feeling grouchy</td>\n",
       "      <td>9</td>\n",
       "      <td>9</td>\n",
       "      <td>9</td>\n",
       "      <td>0.90</td>\n",
       "    </tr>\n",
       "  </tbody>\n",
       "</table>\n",
       "</div>"
      ],
      "text/plain": [
       "   index                                               text  label  \\\n",
       "0      0                            i didnt feel humiliated      0   \n",
       "1      1  i can go from feeling so hopeless to so damned...      0   \n",
       "2      2   im grabbing a minute to post i feel greedy wrong      0   \n",
       "3      3  i am ever feeling nostalgic about the fireplac...      1   \n",
       "4      4                               i am feeling grouchy      0   \n",
       "\n",
       "   sentiment_polarity                                    preprocess text  \\\n",
       "0                0.26                              didnt feel humiliated   \n",
       "1                0.08  go feeling hopeless damned hopeful around some...   \n",
       "2               -0.66          im grabbing minute post feel greedy wrong   \n",
       "3                0.13  ever feeling nostalgic fireplace know still pr...   \n",
       "4               -0.34                                    feeling grouchy   \n",
       "\n",
       "   positive_count  negative count  negative_count  Sentiment Score  \n",
       "0              17              17              17             0.94  \n",
       "1              40              40              40             0.98  \n",
       "2              27              27              27             0.96  \n",
       "3              33              33              33             0.97  \n",
       "4               9               9               9             0.90  "
      ]
     },
     "execution_count": 82,
     "metadata": {},
     "output_type": "execute_result"
    }
   ],
   "source": [
    "df.head()"
   ]
  },
  {
   "cell_type": "markdown",
   "id": "3fe5f9ac",
   "metadata": {},
   "source": [
    "SENTIMENT SCORE"
   ]
  },
  {
   "cell_type": "code",
   "execution_count": 39,
   "id": "ad4f0867",
   "metadata": {},
   "outputs": [],
   "source": [
    "positive_df = df.loc[df['label'] == 1]"
   ]
  },
  {
   "cell_type": "code",
   "execution_count": 83,
   "id": "8b21da93",
   "metadata": {},
   "outputs": [
    {
     "data": {
      "text/html": [
       "<div>\n",
       "<style scoped>\n",
       "    .dataframe tbody tr th:only-of-type {\n",
       "        vertical-align: middle;\n",
       "    }\n",
       "\n",
       "    .dataframe tbody tr th {\n",
       "        vertical-align: top;\n",
       "    }\n",
       "\n",
       "    .dataframe thead th {\n",
       "        text-align: right;\n",
       "    }\n",
       "</style>\n",
       "<table border=\"1\" class=\"dataframe\">\n",
       "  <thead>\n",
       "    <tr style=\"text-align: right;\">\n",
       "      <th></th>\n",
       "      <th>index</th>\n",
       "      <th>text</th>\n",
       "      <th>label</th>\n",
       "      <th>sentiment_polarity</th>\n",
       "    </tr>\n",
       "  </thead>\n",
       "  <tbody>\n",
       "    <tr>\n",
       "      <th>3</th>\n",
       "      <td>3</td>\n",
       "      <td>i am ever feeling nostalgic about the fireplac...</td>\n",
       "      <td>1</td>\n",
       "      <td>0.13</td>\n",
       "    </tr>\n",
       "    <tr>\n",
       "      <th>6</th>\n",
       "      <td>6</td>\n",
       "      <td>ive been taking or milligrams or times recomme...</td>\n",
       "      <td>1</td>\n",
       "      <td>0.84</td>\n",
       "    </tr>\n",
       "    <tr>\n",
       "      <th>8</th>\n",
       "      <td>8</td>\n",
       "      <td>i have been with petronas for years i feel tha...</td>\n",
       "      <td>1</td>\n",
       "      <td>0.74</td>\n",
       "    </tr>\n",
       "    <tr>\n",
       "      <th>9</th>\n",
       "      <td>9</td>\n",
       "      <td>i feel romantic too</td>\n",
       "      <td>1</td>\n",
       "      <td>0.40</td>\n",
       "    </tr>\n",
       "    <tr>\n",
       "      <th>11</th>\n",
       "      <td>11</td>\n",
       "      <td>i do feel that running is a divine experience ...</td>\n",
       "      <td>1</td>\n",
       "      <td>0.56</td>\n",
       "    </tr>\n",
       "  </tbody>\n",
       "</table>\n",
       "</div>"
      ],
      "text/plain": [
       "    index                                               text  label  \\\n",
       "3       3  i am ever feeling nostalgic about the fireplac...      1   \n",
       "6       6  ive been taking or milligrams or times recomme...      1   \n",
       "8       8  i have been with petronas for years i feel tha...      1   \n",
       "9       9                                i feel romantic too      1   \n",
       "11     11  i do feel that running is a divine experience ...      1   \n",
       "\n",
       "    sentiment_polarity  \n",
       "3                 0.13  \n",
       "6                 0.84  \n",
       "8                 0.74  \n",
       "9                 0.40  \n",
       "11                0.56  "
      ]
     },
     "execution_count": 83,
     "metadata": {},
     "output_type": "execute_result"
    }
   ],
   "source": [
    "positive_df.head()"
   ]
  },
  {
   "cell_type": "code",
   "execution_count": 84,
   "id": "5654e565",
   "metadata": {},
   "outputs": [
    {
     "data": {
      "text/html": [
       "<div>\n",
       "<style scoped>\n",
       "    .dataframe tbody tr th:only-of-type {\n",
       "        vertical-align: middle;\n",
       "    }\n",
       "\n",
       "    .dataframe tbody tr th {\n",
       "        vertical-align: top;\n",
       "    }\n",
       "\n",
       "    .dataframe thead th {\n",
       "        text-align: right;\n",
       "    }\n",
       "</style>\n",
       "<table border=\"1\" class=\"dataframe\">\n",
       "  <thead>\n",
       "    <tr style=\"text-align: right;\">\n",
       "      <th></th>\n",
       "      <th>index</th>\n",
       "      <th>text</th>\n",
       "      <th>label</th>\n",
       "      <th>sentiment_polarity</th>\n",
       "      <th>preprocess text</th>\n",
       "      <th>positive_count</th>\n",
       "      <th>negative count</th>\n",
       "      <th>negative_count</th>\n",
       "      <th>Sentiment Score</th>\n",
       "    </tr>\n",
       "  </thead>\n",
       "  <tbody>\n",
       "    <tr>\n",
       "      <th>0</th>\n",
       "      <td>0</td>\n",
       "      <td>i didnt feel humiliated</td>\n",
       "      <td>0</td>\n",
       "      <td>0.26</td>\n",
       "      <td>didnt feel humiliated</td>\n",
       "      <td>17</td>\n",
       "      <td>17</td>\n",
       "      <td>17</td>\n",
       "      <td>0.94</td>\n",
       "    </tr>\n",
       "    <tr>\n",
       "      <th>1</th>\n",
       "      <td>1</td>\n",
       "      <td>i can go from feeling so hopeless to so damned...</td>\n",
       "      <td>0</td>\n",
       "      <td>0.08</td>\n",
       "      <td>go feeling hopeless damned hopeful around some...</td>\n",
       "      <td>40</td>\n",
       "      <td>40</td>\n",
       "      <td>40</td>\n",
       "      <td>0.98</td>\n",
       "    </tr>\n",
       "    <tr>\n",
       "      <th>2</th>\n",
       "      <td>2</td>\n",
       "      <td>im grabbing a minute to post i feel greedy wrong</td>\n",
       "      <td>0</td>\n",
       "      <td>-0.66</td>\n",
       "      <td>im grabbing minute post feel greedy wrong</td>\n",
       "      <td>27</td>\n",
       "      <td>27</td>\n",
       "      <td>27</td>\n",
       "      <td>0.96</td>\n",
       "    </tr>\n",
       "    <tr>\n",
       "      <th>4</th>\n",
       "      <td>4</td>\n",
       "      <td>i am feeling grouchy</td>\n",
       "      <td>0</td>\n",
       "      <td>-0.34</td>\n",
       "      <td>feeling grouchy</td>\n",
       "      <td>9</td>\n",
       "      <td>9</td>\n",
       "      <td>9</td>\n",
       "      <td>0.90</td>\n",
       "    </tr>\n",
       "    <tr>\n",
       "      <th>5</th>\n",
       "      <td>5</td>\n",
       "      <td>ive been feeling a little burdened lately wasn...</td>\n",
       "      <td>0</td>\n",
       "      <td>-0.43</td>\n",
       "      <td>ive feeling little burdened lately wasnt sure</td>\n",
       "      <td>31</td>\n",
       "      <td>31</td>\n",
       "      <td>31</td>\n",
       "      <td>0.97</td>\n",
       "    </tr>\n",
       "  </tbody>\n",
       "</table>\n",
       "</div>"
      ],
      "text/plain": [
       "   index                                               text  label  \\\n",
       "0      0                            i didnt feel humiliated      0   \n",
       "1      1  i can go from feeling so hopeless to so damned...      0   \n",
       "2      2   im grabbing a minute to post i feel greedy wrong      0   \n",
       "4      4                               i am feeling grouchy      0   \n",
       "5      5  ive been feeling a little burdened lately wasn...      0   \n",
       "\n",
       "   sentiment_polarity                                    preprocess text  \\\n",
       "0                0.26                              didnt feel humiliated   \n",
       "1                0.08  go feeling hopeless damned hopeful around some...   \n",
       "2               -0.66          im grabbing minute post feel greedy wrong   \n",
       "4               -0.34                                    feeling grouchy   \n",
       "5               -0.43      ive feeling little burdened lately wasnt sure   \n",
       "\n",
       "   positive_count  negative count  negative_count  Sentiment Score  \n",
       "0              17              17              17             0.94  \n",
       "1              40              40              40             0.98  \n",
       "2              27              27              27             0.96  \n",
       "4               9               9               9             0.90  \n",
       "5              31              31              31             0.97  "
      ]
     },
     "execution_count": 84,
     "metadata": {},
     "output_type": "execute_result"
    }
   ],
   "source": [
    "negative_df = df.loc[df['label'] == 0]\n",
    "negative_df.head()"
   ]
  },
  {
   "cell_type": "code",
   "execution_count": 46,
   "id": "a91f0524",
   "metadata": {},
   "outputs": [],
   "source": [
    "pos_words_file = df.to_csv(\"positive words.csv\")\n",
    "neg_words_file = df.to_csv(\"negative words.csv\")"
   ]
  },
  {
   "cell_type": "code",
   "execution_count": 73,
   "id": "e97ee787",
   "metadata": {},
   "outputs": [],
   "source": [
    "neg_file = open('negative words.csv', 'r')\n",
    "pos_file = open('positive words.csv', 'r')\n",
    "pos_words = pos_file.read().split()\n",
    "neg_words = neg_file.read().split()"
   ]
  },
  {
   "cell_type": "code",
   "execution_count": 69,
   "id": "653c7686",
   "metadata": {},
   "outputs": [],
   "source": [
    "num_pos = df['preprocess text'].map(lambda x : len([i for i in x if i in pos_words]))\n",
    "num_neg = df['preprocess text'].map(lambda x : len([i for i in x if i in neg_words]))"
   ]
  },
  {
   "cell_type": "code",
   "execution_count": 70,
   "id": "e75a6a21",
   "metadata": {},
   "outputs": [],
   "source": [
    "df['positive_count'] = num_pos\n",
    "df['negative_count'] = num_neg"
   ]
  },
  {
   "cell_type": "code",
   "execution_count": 71,
   "id": "870c9c11",
   "metadata": {},
   "outputs": [],
   "source": [
    "df['Sentiment Score']  = round(df['positive_count']/(df['negative_count']+1),2)"
   ]
  },
  {
   "cell_type": "code",
   "execution_count": 85,
   "id": "f26b53df",
   "metadata": {},
   "outputs": [
    {
     "data": {
      "text/html": [
       "<div>\n",
       "<style scoped>\n",
       "    .dataframe tbody tr th:only-of-type {\n",
       "        vertical-align: middle;\n",
       "    }\n",
       "\n",
       "    .dataframe tbody tr th {\n",
       "        vertical-align: top;\n",
       "    }\n",
       "\n",
       "    .dataframe thead th {\n",
       "        text-align: right;\n",
       "    }\n",
       "</style>\n",
       "<table border=\"1\" class=\"dataframe\">\n",
       "  <thead>\n",
       "    <tr style=\"text-align: right;\">\n",
       "      <th></th>\n",
       "      <th>index</th>\n",
       "      <th>text</th>\n",
       "      <th>label</th>\n",
       "      <th>sentiment_polarity</th>\n",
       "      <th>preprocess text</th>\n",
       "      <th>positive_count</th>\n",
       "      <th>negative count</th>\n",
       "      <th>negative_count</th>\n",
       "      <th>Sentiment Score</th>\n",
       "    </tr>\n",
       "  </thead>\n",
       "  <tbody>\n",
       "    <tr>\n",
       "      <th>0</th>\n",
       "      <td>0</td>\n",
       "      <td>i didnt feel humiliated</td>\n",
       "      <td>0</td>\n",
       "      <td>0.26</td>\n",
       "      <td>didnt feel humiliated</td>\n",
       "      <td>17</td>\n",
       "      <td>17</td>\n",
       "      <td>17</td>\n",
       "      <td>0.94</td>\n",
       "    </tr>\n",
       "    <tr>\n",
       "      <th>1</th>\n",
       "      <td>1</td>\n",
       "      <td>i can go from feeling so hopeless to so damned...</td>\n",
       "      <td>0</td>\n",
       "      <td>0.08</td>\n",
       "      <td>go feeling hopeless damned hopeful around some...</td>\n",
       "      <td>40</td>\n",
       "      <td>40</td>\n",
       "      <td>40</td>\n",
       "      <td>0.98</td>\n",
       "    </tr>\n",
       "    <tr>\n",
       "      <th>2</th>\n",
       "      <td>2</td>\n",
       "      <td>im grabbing a minute to post i feel greedy wrong</td>\n",
       "      <td>0</td>\n",
       "      <td>-0.66</td>\n",
       "      <td>im grabbing minute post feel greedy wrong</td>\n",
       "      <td>27</td>\n",
       "      <td>27</td>\n",
       "      <td>27</td>\n",
       "      <td>0.96</td>\n",
       "    </tr>\n",
       "    <tr>\n",
       "      <th>3</th>\n",
       "      <td>3</td>\n",
       "      <td>i am ever feeling nostalgic about the fireplac...</td>\n",
       "      <td>1</td>\n",
       "      <td>0.13</td>\n",
       "      <td>ever feeling nostalgic fireplace know still pr...</td>\n",
       "      <td>33</td>\n",
       "      <td>33</td>\n",
       "      <td>33</td>\n",
       "      <td>0.97</td>\n",
       "    </tr>\n",
       "    <tr>\n",
       "      <th>4</th>\n",
       "      <td>4</td>\n",
       "      <td>i am feeling grouchy</td>\n",
       "      <td>0</td>\n",
       "      <td>-0.34</td>\n",
       "      <td>feeling grouchy</td>\n",
       "      <td>9</td>\n",
       "      <td>9</td>\n",
       "      <td>9</td>\n",
       "      <td>0.90</td>\n",
       "    </tr>\n",
       "  </tbody>\n",
       "</table>\n",
       "</div>"
      ],
      "text/plain": [
       "   index                                               text  label  \\\n",
       "0      0                            i didnt feel humiliated      0   \n",
       "1      1  i can go from feeling so hopeless to so damned...      0   \n",
       "2      2   im grabbing a minute to post i feel greedy wrong      0   \n",
       "3      3  i am ever feeling nostalgic about the fireplac...      1   \n",
       "4      4                               i am feeling grouchy      0   \n",
       "\n",
       "   sentiment_polarity                                    preprocess text  \\\n",
       "0                0.26                              didnt feel humiliated   \n",
       "1                0.08  go feeling hopeless damned hopeful around some...   \n",
       "2               -0.66          im grabbing minute post feel greedy wrong   \n",
       "3                0.13  ever feeling nostalgic fireplace know still pr...   \n",
       "4               -0.34                                    feeling grouchy   \n",
       "\n",
       "   positive_count  negative count  negative_count  Sentiment Score  \n",
       "0              17              17              17             0.94  \n",
       "1              40              40              40             0.98  \n",
       "2              27              27              27             0.96  \n",
       "3              33              33              33             0.97  \n",
       "4               9               9               9             0.90  "
      ]
     },
     "execution_count": 85,
     "metadata": {},
     "output_type": "execute_result"
    }
   ],
   "source": [
    "df.head()"
   ]
  },
  {
   "cell_type": "code",
   "execution_count": 86,
   "id": "a8d651fe",
   "metadata": {},
   "outputs": [],
   "source": [
    "df.to_excel(\"Sentiment Analysis.xlsx\")"
   ]
  }
 ],
 "metadata": {
  "kernelspec": {
   "display_name": "Python 3 (ipykernel)",
   "language": "python",
   "name": "python3"
  },
  "language_info": {
   "codemirror_mode": {
    "name": "ipython",
    "version": 3
   },
   "file_extension": ".py",
   "mimetype": "text/x-python",
   "name": "python",
   "nbconvert_exporter": "python",
   "pygments_lexer": "ipython3",
   "version": "3.8.10"
  }
 },
 "nbformat": 4,
 "nbformat_minor": 5
}
